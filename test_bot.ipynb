{
  "nbformat": 4,
  "nbformat_minor": 0,
  "metadata": {
    "colab": {
      "name": "test_bot.ipynb",
      "provenance": [],
      "collapsed_sections": [],
      "machine_shape": "hm"
    },
    "kernelspec": {
      "name": "python3",
      "display_name": "Python 3"
    },
    "accelerator": "GPU"
  },
  "cells": [
    {
      "cell_type": "code",
      "metadata": {
        "id": "uStWMtd6Lfen",
        "colab_type": "code",
        "outputId": "d63b92ff-f305-4078-9f61-6a8f4b456d6c",
        "colab": {
          "base_uri": "https://localhost:8080/",
          "height": 34
        }
      },
      "source": [
        "from google.colab import drive\n",
        "drive.mount('/content/gdrive')"
      ],
      "execution_count": 3,
      "outputs": [
        {
          "output_type": "stream",
          "text": [
            "Mounted at /content/gdrive\n"
          ],
          "name": "stdout"
        }
      ]
    },
    {
      "cell_type": "code",
      "metadata": {
        "id": "5w12NbCqw8qo",
        "colab_type": "code",
        "colab": {}
      },
      "source": [
        "%cd /content/gdrive/My \\Drive\n",
        "!mkdir spyfall\n",
        "%cd spyfall\n",
        "!git clone https://github.com/EdGartner/spyfall-bot.git\n",
        "!mkdir gpt2\n",
        "%cd gpt2\n",
        "!git clone https://github.com/openai/gpt-2.git\n",
        "%cd /content/gdrive/My \\Drive/spyfall\n",
        "!mv sample.py gpt-2/src # bc there was an issue in gpt-2 sample.py for me"
      ],
      "execution_count": 0,
      "outputs": []
    },
    {
      "cell_type": "code",
      "metadata": {
        "id": "XYaF_A-9EMGD",
        "colab_type": "code",
        "colab": {}
      },
      "source": [
        "%cd /content/gdrive/My \\Drive/spyfall/gpt2/\n",
        "!pip install -r requirements.txt\n",
        "# will require restart"
      ],
      "execution_count": 0,
      "outputs": []
    },
    {
      "cell_type": "code",
      "metadata": {
        "id": "NGSkJ421tFSW",
        "colab_type": "code",
        "outputId": "4bbda0d2-60f7-4066-b8c5-cbab8612ba36",
        "colab": {
          "base_uri": "https://localhost:8080/",
          "height": 51
        }
      },
      "source": [
        "%tensorflow_version 1.x\n",
        "import tensorflow as tf\n",
        "import os\n",
        "import json\n",
        "from importlib import reload \n",
        "tf.__version__"
      ],
      "execution_count": 4,
      "outputs": [
        {
          "output_type": "stream",
          "text": [
            "TensorFlow 1.x selected.\n"
          ],
          "name": "stdout"
        },
        {
          "output_type": "execute_result",
          "data": {
            "text/plain": [
              "'1.15.2'"
            ]
          },
          "metadata": {
            "tags": []
          },
          "execution_count": 4
        }
      ]
    },
    {
      "cell_type": "code",
      "metadata": {
        "id": "c5IhkNYMETNR",
        "colab_type": "code",
        "outputId": "f6c644c0-824a-41f2-c75e-4f7dd0b84708",
        "colab": {
          "base_uri": "https://localhost:8080/",
          "height": 153
        }
      },
      "source": [
        "%cd /content/gdrive/My \\Drive/spyfall/gpt2\n",
        "# !python download_model.py 355M\n",
        "!python download_model.py 774M\n",
        "# !python download_model.py 1558M"
      ],
      "execution_count": 0,
      "outputs": [
        {
          "output_type": "stream",
          "text": [
            "/content/gdrive/My Drive/spyfall/gpt2\n",
            "Fetching checkpoint: 1.00kit [00:00, 729kit/s]                                                      \n",
            "Fetching encoder.json: 1.04Mit [00:00, 35.4Mit/s]                                                   \n",
            "Fetching hparams.json: 1.00kit [00:00, 579kit/s]                                                    \n",
            "Fetching model.ckpt.data-00000-of-00001: 3.10Git [01:17, 39.9Mit/s]                                 \n",
            "Fetching model.ckpt.index: 16.0kit [00:00, 8.82Mit/s]                                               \n",
            "Fetching model.ckpt.meta: 1.38Mit [00:00, 41.1Mit/s]                                                \n",
            "Fetching vocab.bpe: 457kit [00:00, 30.2Mit/s]                                                       \n"
          ],
          "name": "stdout"
        }
      ]
    },
    {
      "cell_type": "code",
      "metadata": {
        "id": "TJn8BqIji8QZ",
        "colab_type": "code",
        "outputId": "c018b136-5f1c-4178-80af-c87c5f08f179",
        "colab": {
          "base_uri": "https://localhost:8080/",
          "height": 34
        }
      },
      "source": [
        "%cd /content/gdrive/My \\Drive/spyfall\n",
        "import spyfall_bot"
      ],
      "execution_count": 5,
      "outputs": [
        {
          "output_type": "stream",
          "text": [
            "/content/gdrive/My Drive/spyfall\n"
          ],
          "name": "stdout"
        }
      ]
    },
    {
      "cell_type": "code",
      "metadata": {
        "id": "VkY1dloB5wvs",
        "colab_type": "code",
        "colab": {}
      },
      "source": [
        "prompts_text = ['Halfway through through the plane ride, the passengers began to feel restless.', \n",
        "                'It may have seemed like an ordinary morning at the local bank.',\n",
        "                'The sun shone brightly, and the beach was packed with visitors.',\n",
        "                'The lights dimmed, the curtains opened, and the audience fell silent as the Broadway show began.',\n",
        "                'It is a busy Saturday night at the casio.']\n",
        "spyfall_bot = reload(spyfall_bot)\n",
        "bot = spyfall_bot.Bot(prompts_text, prompt_index=2, players=3, position=0, model_name='1558M')"
      ],
      "execution_count": 0,
      "outputs": []
    },
    {
      "cell_type": "code",
      "metadata": {
        "id": "72dKy0dtPcWZ",
        "colab_type": "code",
        "colab": {}
      },
      "source": [
        "transcript = ['Most people sit for hours in their chairs, exemplifying sedentary American culture.',\n",
        "              'Some people go swimming, though.',\n",
        "              'The waves are quite calm.',\n",
        "              'There is a stand selling icecream.',\n",
        "              'Naturally, it is quite overpriced.',\n",
        "              'Seagulls wait eagerly for someone to drop their icecream.']"
      ],
      "execution_count": 0,
      "outputs": []
    },
    {
      "cell_type": "code",
      "metadata": {
        "id": "-wuE7tKOc4q2",
        "colab_type": "code",
        "colab": {
          "base_uri": "https://localhost:8080/",
          "height": 68
        },
        "outputId": "2358c848-bb24-4504-b129-62860397bf36"
      },
      "source": [
        "out = bot.generate(transcript, hide_info=0.1)\n",
        "print(out)"
      ],
      "execution_count": 25,
      "outputs": [
        {
          "output_type": "stream",
          "text": [
            "\n",
            "\n",
            "One of the first things I noticed as I stepped into the dark and cold room was the lack of a door.\n"
          ],
          "name": "stdout"
        }
      ]
    },
    {
      "cell_type": "code",
      "metadata": {
        "id": "jzoOYsRejMmR",
        "colab_type": "code",
        "colab": {
          "base_uri": "https://localhost:8080/",
          "height": 34
        },
        "outputId": "c8d06cf4-6fab-4a03-9cd6-754c5f316275"
      },
      "source": [
        "transcript.append(out)\n",
        "transcript.extend(['Everyone seemed happy, just content to enjoy themselves.',\n",
        "                   'But behind the sunny facade lurked a culture obsessed with body image and sex appeal.'])\n",
        "print(bot.generate(transcript, hide_info=0.1))"
      ],
      "execution_count": 26,
      "outputs": [
        {
          "output_type": "execute_result",
          "data": {
            "text/plain": [
              "'\\n\\n\"I have a boyfriend,\" I said, \"and I want to be with him.'"
            ]
          },
          "metadata": {
            "tags": []
          },
          "execution_count": 26
        }
      ]
    },
    {
      "cell_type": "code",
      "metadata": {
        "id": "4kNBDwzMB8mm",
        "colab_type": "code",
        "colab": {}
      },
      "source": [
        "for i in range(1, len(transcript) + 1):\n",
        "    print(bot.guess(transcript[:i], confidence=0.7))\n",
        "    print(bot.saved)"
      ],
      "execution_count": 0,
      "outputs": []
    },
    {
      "cell_type": "code",
      "metadata": {
        "id": "oXIClTzTwzGI",
        "colab_type": "code",
        "colab": {
          "base_uri": "https://localhost:8080/",
          "height": 51
        },
        "outputId": "9c864212-88c9-4317-acee-ef8d52b89f1b"
      },
      "source": [
        "print(bot.guess(['It was a little after 8:00 a.',\n",
        "                 'Everyone seemed happy, just content to enjoy themselves.',\n",
        "                   'But behind the sunny facade lurked a culture obsessed with body image and sex appeal.',\n",
        "                 'The women were dressed in short skirts and tight tops, and the men in tight jeans and T-shirts.'], confidence=0.7))\n",
        "print(bot.saved)"
      ],
      "execution_count": 10,
      "outputs": [
        {
          "output_type": "stream",
          "text": [
            "False\n",
            "[0.22753683 0.09748875 0.5505031  0.1183204  0.00615091]\n"
          ],
          "name": "stdout"
        }
      ]
    },
    {
      "cell_type": "code",
      "metadata": {
        "id": "c864SkVJz9fW",
        "colab_type": "code",
        "colab": {}
      },
      "source": [
        "bot.close()"
      ],
      "execution_count": 0,
      "outputs": []
    },
    {
      "cell_type": "code",
      "metadata": {
        "id": "aXDc213XgNj6",
        "colab_type": "code",
        "colab": {
          "base_uri": "https://localhost:8080/",
          "height": 34
        },
        "outputId": "24300e30-3889-4b70-c152-744304b29922"
      },
      "source": [
        "bot2 = spyfall_bot.Bot(prompts_text, prompt_index=None, players=6, position=5, model_name='1558M')"
      ],
      "execution_count": 11,
      "outputs": [
        {
          "output_type": "stream",
          "text": [
            "INFO:tensorflow:Restoring parameters from gpt2/models/1558M/model.ckpt\n"
          ],
          "name": "stdout"
        }
      ]
    },
    {
      "cell_type": "code",
      "metadata": {
        "id": "mRMrTlqID20q",
        "colab_type": "code",
        "colab": {}
      },
      "source": [
        "transcript2 = ['Everyone has stopped pretending to sleep.',\n",
        "               'A few people scroll through the few movie options.',\n",
        "               'It seems like everyone wants a stretch break.',\n",
        "               'One man decided to go for a short jog and came back 10 minutes later.'\n",
        "               'The line for the bathroom has become quite long.']"
      ],
      "execution_count": 0,
      "outputs": []
    },
    {
      "cell_type": "code",
      "metadata": {
        "id": "Uj_5VqGdi0rG",
        "colab_type": "code",
        "outputId": "753f4c7e-0398-4e71-8de0-5cf4cb73518c",
        "colab": {
          "base_uri": "https://localhost:8080/",
          "height": 34
        }
      },
      "source": [
        "bot2.generate(transcript)"
      ],
      "execution_count": 13,
      "outputs": [
        {
          "output_type": "execute_result",
          "data": {
            "text/plain": [
              "'\\n\\nThe first thing I noticed was the way the women were dressed.'"
            ]
          },
          "metadata": {
            "tags": []
          },
          "execution_count": 13
        }
      ]
    },
    {
      "cell_type": "code",
      "metadata": {
        "id": "y23GtngmdCDf",
        "colab_type": "code",
        "outputId": "26aca3a8-825b-42af-c92f-1c3c53dcd1ca",
        "colab": {
          "base_uri": "https://localhost:8080/",
          "height": 153
        }
      },
      "source": [
        "for i in range(1, len(transcript2) + 1):\n",
        "    print(bot2.guess(transcript2[:i], confidence=0.7))\n",
        "    print(bot2.saved)"
      ],
      "execution_count": 14,
      "outputs": [
        {
          "output_type": "stream",
          "text": [
            "False\n",
            "[0.25845599 0.04037354 0.02950952 0.0356209  0.63604004]\n",
            "False\n",
            "[0.41176584 0.03988517 0.03103913 0.05590797 0.4614019 ]\n",
            "False\n",
            "[0.59089797 0.04512281 0.03851003 0.04997747 0.27549172]\n",
            "False\n",
            "[0.69590043 0.04301185 0.07210033 0.06866539 0.12032199]\n"
          ],
          "name": "stdout"
        }
      ]
    },
    {
      "cell_type": "code",
      "metadata": {
        "id": "cDyY66bWKz8k",
        "colab_type": "code",
        "outputId": "89f08574-8038-4c34-b519-ff3e4a341294",
        "colab": {
          "base_uri": "https://localhost:8080/",
          "height": 119
        }
      },
      "source": [
        "bot2.index = 0\n",
        "bot2.spy = False\n",
        "transcript2.append('The first thing I noticed was the way the women were dressed.')\n",
        "print(bot2.accuse(transcript2))\n",
        "print(bot2.saved)"
      ],
      "execution_count": 27,
      "outputs": [
        {
          "output_type": "stream",
          "text": [
            "4\n",
            "[1.4212767020070771, 1.3463997167417563, 1.6419682153393067, 1.216208755686229, 1.186758884489892, inf]\n"
          ],
          "name": "stdout"
        },
        {
          "output_type": "stream",
          "text": [
            "/usr/local/lib/python3.6/dist-packages/numpy/core/fromnumeric.py:3335: RuntimeWarning: Mean of empty slice.\n",
            "  out=out, **kwargs)\n",
            "/usr/local/lib/python3.6/dist-packages/numpy/core/_methods.py:161: RuntimeWarning: invalid value encountered in double_scalars\n",
            "  ret = ret.dtype.type(ret / rcount)\n"
          ],
          "name": "stderr"
        }
      ]
    },
    {
      "cell_type": "code",
      "metadata": {
        "id": "m_3fLo20V_OP",
        "colab_type": "code",
        "colab": {}
      },
      "source": [
        "bot2.close()"
      ],
      "execution_count": 0,
      "outputs": []
    }
  ]
}
